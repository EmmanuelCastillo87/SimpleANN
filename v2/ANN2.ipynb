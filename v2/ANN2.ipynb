{
 "cells": [
  {
   "cell_type": "code",
   "execution_count": 8,
   "metadata": {},
   "outputs": [
    {
     "name": "stderr",
     "output_type": "stream",
     "text": [
      "c:\\Users\\Josè Castillo\\AppData\\Local\\Programs\\Python\\Python310\\lib\\site-packages\\keras\\src\\layers\\core\\dense.py:87: UserWarning: Do not pass an `input_shape`/`input_dim` argument to a layer. When using Sequential models, prefer using an `Input(shape)` object as the first layer in the model instead.\n",
      "  super().__init__(activity_regularizer=activity_regularizer, **kwargs)\n"
     ]
    },
    {
     "data": {
      "text/html": [
       "<div>\n",
       "<style scoped>\n",
       "    .dataframe tbody tr th:only-of-type {\n",
       "        vertical-align: middle;\n",
       "    }\n",
       "\n",
       "    .dataframe tbody tr th {\n",
       "        vertical-align: top;\n",
       "    }\n",
       "\n",
       "    .dataframe thead th {\n",
       "        text-align: right;\n",
       "    }\n",
       "</style>\n",
       "<table border=\"1\" class=\"dataframe\">\n",
       "  <thead>\n",
       "    <tr style=\"text-align: right;\">\n",
       "      <th></th>\n",
       "      <th>loss</th>\n",
       "      <th>mae</th>\n",
       "      <th>mse</th>\n",
       "      <th>val_loss</th>\n",
       "      <th>val_mae</th>\n",
       "      <th>val_mse</th>\n",
       "      <th>epoch</th>\n",
       "    </tr>\n",
       "  </thead>\n",
       "  <tbody>\n",
       "    <tr>\n",
       "      <th>907</th>\n",
       "      <td>19.828665</td>\n",
       "      <td>3.352298</td>\n",
       "      <td>19.828665</td>\n",
       "      <td>394.371399</td>\n",
       "      <td>14.592006</td>\n",
       "      <td>394.371399</td>\n",
       "      <td>907</td>\n",
       "    </tr>\n",
       "    <tr>\n",
       "      <th>908</th>\n",
       "      <td>19.815292</td>\n",
       "      <td>3.426904</td>\n",
       "      <td>19.815292</td>\n",
       "      <td>407.065704</td>\n",
       "      <td>14.891994</td>\n",
       "      <td>407.065704</td>\n",
       "      <td>908</td>\n",
       "    </tr>\n",
       "    <tr>\n",
       "      <th>909</th>\n",
       "      <td>19.821104</td>\n",
       "      <td>3.354287</td>\n",
       "      <td>19.821104</td>\n",
       "      <td>393.834229</td>\n",
       "      <td>14.579453</td>\n",
       "      <td>393.834229</td>\n",
       "      <td>909</td>\n",
       "    </tr>\n",
       "    <tr>\n",
       "      <th>910</th>\n",
       "      <td>19.809401</td>\n",
       "      <td>3.422739</td>\n",
       "      <td>19.809401</td>\n",
       "      <td>407.047546</td>\n",
       "      <td>14.889654</td>\n",
       "      <td>407.047546</td>\n",
       "      <td>910</td>\n",
       "    </tr>\n",
       "    <tr>\n",
       "      <th>911</th>\n",
       "      <td>19.824234</td>\n",
       "      <td>3.353939</td>\n",
       "      <td>19.824234</td>\n",
       "      <td>393.891541</td>\n",
       "      <td>14.577861</td>\n",
       "      <td>393.891541</td>\n",
       "      <td>911</td>\n",
       "    </tr>\n",
       "  </tbody>\n",
       "</table>\n",
       "</div>"
      ],
      "text/plain": [
       "          loss       mae        mse    val_loss    val_mae     val_mse  epoch\n",
       "907  19.828665  3.352298  19.828665  394.371399  14.592006  394.371399    907\n",
       "908  19.815292  3.426904  19.815292  407.065704  14.891994  407.065704    908\n",
       "909  19.821104  3.354287  19.821104  393.834229  14.579453  393.834229    909\n",
       "910  19.809401  3.422739  19.809401  407.047546  14.889654  407.047546    910\n",
       "911  19.824234  3.353939  19.824234  393.891541  14.577861  393.891541    911"
      ]
     },
     "execution_count": 8,
     "metadata": {},
     "output_type": "execute_result"
    }
   ],
   "source": [
    "import numpy as np\n",
    "import pandas as pd\n",
    "import tensorflow as tf\n",
    "from tensorflow import keras\n",
    "from tensorflow.keras import layers\n",
    "import matplotlib.pyplot as plt\n",
    "\n",
    "def gma(data, window_size):\n",
    "    \"\"\"\n",
    "    Calculate the geometric moving average for a given data series.\n",
    "    \n",
    "    Parameters:\n",
    "        data (list or numpy array): The input data series.\n",
    "        window_size (int): The size of the moving window.\n",
    "    \n",
    "    Returns:\n",
    "        list: Smoothed data using geometric moving average.\n",
    "    \"\"\"\n",
    "    gma = []\n",
    "    for i in range(len(data)):\n",
    "        if i < window_size - 1:\n",
    "            # Not enough data for a full window, append NaN\n",
    "            gma.append(np.nan)\n",
    "        else:\n",
    "            # Calculate geometric mean for the current window\n",
    "            window = data[i - window_size + 1:i + 1]\n",
    "            gmean = np.prod(window) ** (1 / window_size)\n",
    "            gma.append(gmean)\n",
    "    return np.array(gma)\n",
    "\n",
    "#Load data\n",
    "raw_dataset= pd.read_csv('data.csv', na_values='?')\n",
    "raw_dataset.pop('A')\n",
    "ds = raw_dataset.copy()\n",
    "\n",
    "#Preprocess data\n",
    "ds= ds.drop(ds[ds['model'] != 'T_23'].index)\n",
    "ds.pop('model')\n",
    "#Create copys for min and T variables\n",
    "min= ds['min']\n",
    "t= ds['T']\n",
    "\n",
    "#Get the initial temperature for each row and discart rows with null values\n",
    "ds['Ti']= ds['T'].shift(1)\n",
    "ds= ds.dropna()\n",
    "\n",
    "#Split tran and test sets\n",
    "train= ds.sample(frac=0.8, random_state=0)\n",
    "test= ds.drop(train.index)\n",
    "\n",
    "#Get data stats\n",
    "train_stats = train.describe()\n",
    "train_stats.pop('T')\n",
    "train_stats = train_stats.transpose()\n",
    "\n",
    "#Pop the output from the dataset\n",
    "train_labels = train.pop('T')\n",
    "test_labels = test.pop('T')\n",
    "\n",
    "#Normalize data\n",
    "def norm(x):\n",
    "  return (x - train_stats['mean']) / train_stats['std']\n",
    "normed_train_data = norm(train)\n",
    "normed_test_data = norm(test)\n",
    "\n",
    "#Build model\n",
    "def build_model():\n",
    "  model = keras.Sequential([\n",
    "    layers.Dense(64, activation='relu', input_shape=[len(train.keys())]),\n",
    "    layers.Dense(64, activation='relu'),\n",
    "    layers.Dense(1)\n",
    "  ])\n",
    "\n",
    "  optimizer = tf.keras.optimizers.RMSprop(0.001)\n",
    "  model.compile(loss='mse', optimizer=optimizer, metrics=['mae', 'mse'])\n",
    "  \n",
    "  return model\n",
    "\n",
    "model = build_model()\n",
    "early_stop = keras.callbacks.EarlyStopping(monitor='val_loss', patience=10)\n",
    "\n",
    "#Run the model\n",
    "EPOCHS = 1000\n",
    "history = model.fit(\n",
    "  normed_train_data, train_labels,\n",
    "  epochs=EPOCHS, validation_split = 0.2, verbose=0,\n",
    "  callbacks=[early_stop])\n",
    "\n",
    "hist = pd.DataFrame(history.history)\n",
    "hist['epoch'] = history.epoch\n",
    "hist.tail()"
   ]
  },
  {
   "cell_type": "code",
   "execution_count": 9,
   "metadata": {},
   "outputs": [
    {
     "name": "stdout",
     "output_type": "stream",
     "text": [
      "1/1 - 0s - 49ms/step - loss: 1157.6239 - mae: 19.0592 - mse: 1157.6239\n",
      "Testing set Mean Abs Error: 19.06 °C\n"
     ]
    }
   ],
   "source": [
    "#Evaluate the model\n",
    "loss, mae, mse = model.evaluate(normed_test_data, test_labels, verbose=2)\n",
    "\n",
    "print(\"Testing set Mean Abs Error: {:.2f} °C\".format(mae))\n",
    "\n"
   ]
  },
  {
   "cell_type": "code",
   "execution_count": 12,
   "metadata": {},
   "outputs": [
    {
     "name": "stdout",
     "output_type": "stream",
     "text": [
      "\u001b[1m1/1\u001b[0m \u001b[32m━━━━━━━━━━━━━━━━━━━━\u001b[0m\u001b[37m\u001b[0m \u001b[1m0s\u001b[0m 56ms/step\n"
     ]
    },
    {
     "data": {
      "image/png": "[encoded data removed]",
      "text/plain": [
       "<Figure size 432x288 with 1 Axes>"
      ]
     },
     "metadata": {
      "needs_background": "light"
     },
     "output_type": "display_data"
    }
   ],
   "source": [
    "#Test the model\n",
    "test_predictions = model.predict(normed_test_data).flatten()\n",
    "\n",
    "plt.scatter(test_labels, test_predictions)\n",
    "plt.xlabel('True Values T')\n",
    "plt.ylabel('Predictions T')\n",
    "plt.axis('equal')\n",
    "plt.axis('square')\n",
    "_ = plt.plot([-160, 160], [-160, 160])"
   ]
  },
  {
   "cell_type": "code",
   "execution_count": 5,
   "metadata": {},
   "outputs": [],
   "source": [
    "model.save('YuriCPC_061224.keras')"
   ]
  }
 ],
 "metadata": {
  "kernelspec": {
   "display_name": "Python 3",
   "language": "python",
   "name": "python3"
  },
  "language_info": {
   "codemirror_mode": {
    "name": "ipython",
    "version": 3
   },
   "file_extension": ".py",
   "mimetype": "text/x-python",
   "name": "python",
   "nbconvert_exporter": "python",
   "pygments_lexer": "ipython3",
   "version": "3.10.5"
  }
 },
 "nbformat": 4,
 "nbformat_minor": 2
}
