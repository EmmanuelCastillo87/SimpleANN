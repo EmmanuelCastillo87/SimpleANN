{
 "cells": [
  {
   "cell_type": "code",
   "execution_count": null,
   "metadata": {},
   "outputs": [
    {
     "name": "stderr",
     "output_type": "stream",
     "text": [
      "c:\\Users\\Josè Castillo\\AppData\\Local\\Programs\\Python\\Python310\\lib\\site-packages\\keras\\src\\layers\\core\\dense.py:87: UserWarning: Do not pass an `input_shape`/`input_dim` argument to a layer. When using Sequential models, prefer using an `Input(shape)` object as the first layer in the model instead.\n",
      "  super().__init__(activity_regularizer=activity_regularizer, **kwargs)\n"
     ]
    },
    {
     "data": {
      "text/html": [
       "<div>\n",
       "<style scoped>\n",
       "    .dataframe tbody tr th:only-of-type {\n",
       "        vertical-align: middle;\n",
       "    }\n",
       "\n",
       "    .dataframe tbody tr th {\n",
       "        vertical-align: top;\n",
       "    }\n",
       "\n",
       "    .dataframe thead th {\n",
       "        text-align: right;\n",
       "    }\n",
       "</style>\n",
       "<table border=\"1\" class=\"dataframe\">\n",
       "  <thead>\n",
       "    <tr style=\"text-align: right;\">\n",
       "      <th></th>\n",
       "      <th>loss</th>\n",
       "      <th>mae</th>\n",
       "      <th>mse</th>\n",
       "      <th>val_loss</th>\n",
       "      <th>val_mae</th>\n",
       "      <th>val_mse</th>\n",
       "      <th>epoch</th>\n",
       "    </tr>\n",
       "  </thead>\n",
       "  <tbody>\n",
       "    <tr>\n",
       "      <th>57</th>\n",
       "      <td>0.104927</td>\n",
       "      <td>0.276428</td>\n",
       "      <td>0.104927</td>\n",
       "      <td>0.146590</td>\n",
       "      <td>0.352677</td>\n",
       "      <td>0.146590</td>\n",
       "      <td>57</td>\n",
       "    </tr>\n",
       "    <tr>\n",
       "      <th>58</th>\n",
       "      <td>0.083868</td>\n",
       "      <td>0.230448</td>\n",
       "      <td>0.083868</td>\n",
       "      <td>0.079919</td>\n",
       "      <td>0.246017</td>\n",
       "      <td>0.079919</td>\n",
       "      <td>58</td>\n",
       "    </tr>\n",
       "    <tr>\n",
       "      <th>59</th>\n",
       "      <td>0.087785</td>\n",
       "      <td>0.246725</td>\n",
       "      <td>0.087785</td>\n",
       "      <td>0.041775</td>\n",
       "      <td>0.163551</td>\n",
       "      <td>0.041775</td>\n",
       "      <td>59</td>\n",
       "    </tr>\n",
       "    <tr>\n",
       "      <th>60</th>\n",
       "      <td>0.120994</td>\n",
       "      <td>0.296261</td>\n",
       "      <td>0.120994</td>\n",
       "      <td>0.034850</td>\n",
       "      <td>0.147025</td>\n",
       "      <td>0.034850</td>\n",
       "      <td>60</td>\n",
       "    </tr>\n",
       "    <tr>\n",
       "      <th>61</th>\n",
       "      <td>0.083582</td>\n",
       "      <td>0.230820</td>\n",
       "      <td>0.083582</td>\n",
       "      <td>0.080553</td>\n",
       "      <td>0.257147</td>\n",
       "      <td>0.080553</td>\n",
       "      <td>61</td>\n",
       "    </tr>\n",
       "  </tbody>\n",
       "</table>\n",
       "</div>"
      ],
      "text/plain": [
       "        loss       mae       mse  val_loss   val_mae   val_mse  epoch\n",
       "57  0.104927  0.276428  0.104927  0.146590  0.352677  0.146590     57\n",
       "58  0.083868  0.230448  0.083868  0.079919  0.246017  0.079919     58\n",
       "59  0.087785  0.246725  0.087785  0.041775  0.163551  0.041775     59\n",
       "60  0.120994  0.296261  0.120994  0.034850  0.147025  0.034850     60\n",
       "61  0.083582  0.230820  0.083582  0.080553  0.257147  0.080553     61"
      ]
     },
     "execution_count": 62,
     "metadata": {},
     "output_type": "execute_result"
    }
   ],
   "source": [
    "import pandas as pd\n",
    "import tensorflow as tf\n",
    "from tensorflow import keras\n",
    "from tensorflow.keras import layers\n",
    "\n",
    "#Load data\n",
    "raw_dataset= pd.read_csv('data.csv', na_values='?')\n",
    "dataset = raw_dataset.copy()\n",
    "\n",
    "#Preprocess data\n",
    "dataset= dataset.drop(dataset[dataset['model'] != 'A_T1_C'].index)\n",
    "dataset.pop('A')\n",
    "dataset.pop('model')\n",
    "dataset['Ti']= dataset['T'].shift(1)\n",
    "dataset= dataset.dropna()\n",
    "dataset.head()\n"
   ]
  },
  {
   "cell_type": "code",
   "execution_count": null,
   "metadata": {},
   "outputs": [],
   "source": [
    "#Split tran and test sets\n",
    "train= dataset.sample(frac=0.8, random_state=0)\n",
    "test= dataset.drop(train.index)\n",
    "\n",
    "#Get data stats\n",
    "train_stats = train.describe()\n",
    "train_stats.pop('T')\n",
    "train_stats = train_stats.transpose()\n",
    "train_stats"
   ]
  },
  {
   "cell_type": "code",
   "execution_count": null,
   "metadata": {},
   "outputs": [],
   "source": [
    "#Pop the output from the dataset\n",
    "train_labels = train.pop('T')\n",
    "test_labels = test.pop('T')\n",
    "\n",
    "#Normalize data\n",
    "def norm(x):\n",
    "  return (x - train_stats['mean']) / train_stats['std']\n",
    "normed_train_data = norm(train)\n",
    "normed_test_data = norm(test)\n",
    "\n",
    "#Build model\n",
    "def build_model():\n",
    "  model = keras.Sequential([\n",
    "    layers.Dense(64, activation='relu', input_shape=[len(train.keys())]),\n",
    "    layers.Dense(64, activation='relu'),\n",
    "    layers.Dense(1)\n",
    "  ])\n",
    "\n",
    "  optimizer = tf.keras.optimizers.RMSprop(0.001)\n",
    "  model.compile(loss='mse', optimizer=optimizer, metrics=['mae', 'mse'])\n",
    "  \n",
    "  return model\n",
    "\n",
    "model = build_model()\n",
    "early_stop = keras.callbacks.EarlyStopping(monitor='val_loss', patience=10)\n",
    "model.summary()"
   ]
  },
  {
   "cell_type": "code",
   "execution_count": null,
   "metadata": {},
   "outputs": [],
   "source": [
    "#Run the model\n",
    "EPOCHS = 1000\n",
    "history = model.fit(\n",
    "  normed_train_data, train_labels,\n",
    "  epochs=EPOCHS, validation_split = 0.2, verbose=0,\n",
    "  callbacks=[early_stop])\n",
    "\n",
    "hist = pd.DataFrame(history.history)\n",
    "hist['epoch'] = history.epoch\n",
    "hist.tail()"
   ]
  },
  {
   "cell_type": "code",
   "execution_count": null,
   "metadata": {},
   "outputs": [
    {
     "name": "stdout",
     "output_type": "stream",
     "text": [
      "6/6 - 0s - 11ms/step - loss: 0.0854 - mae: 0.2615 - mse: 0.0854\n",
      "Testing set Mean Abs Error: 0.26 Temperature\n"
     ]
    }
   ],
   "source": [
    "loss, mae, mse = model.evaluate(normed_test_data, test_labels, verbose=2)\n",
    "\n",
    "print(\"Testing set Mean Abs Error: {:.2f} Temperature\".format(mae))"
   ]
  },
  {
   "cell_type": "code",
   "execution_count": 70,
   "metadata": {},
   "outputs": [
    {
     "name": "stdout",
     "output_type": "stream",
     "text": [
      "\u001b[1m6/6\u001b[0m \u001b[32m━━━━━━━━━━━━━━━━━━━━\u001b[0m\u001b[37m\u001b[0m \u001b[1m0s\u001b[0m 6ms/step \n"
     ]
    },
    {
     "data": {
      "image/png": "[encoded data removed]",
      "text/plain": [
       "<Figure size 432x288 with 1 Axes>"
      ]
     },
     "metadata": {
      "needs_background": "light"
     },
     "output_type": "display_data"
    }
   ],
   "source": [
    "import matplotlib.pyplot as plt\n",
    "test_predictions = model.predict(normed_test_data).flatten()\n",
    "\n",
    "plt.scatter(test_labels, test_predictions)\n",
    "plt.xlabel('True Values T')\n",
    "plt.ylabel('Predictions T')\n",
    "plt.axis('equal')\n",
    "plt.axis('square')\n",
    "_ = plt.plot([-100, 100], [-100, 100])"
   ]
  },
  {
   "cell_type": "code",
   "execution_count": null,
   "metadata": {},
   "outputs": [],
   "source": [
    "dataset = raw_dataset.copy()\n",
    "\n",
    "#Preprocess data\n",
    "dataset= dataset.drop(dataset[dataset['model'] != 'A_T2_C'].index)\n",
    "dataset.pop('A')\n",
    "dataset.pop('model')\n",
    "dataset['Ti']= dataset['T'].shift(1)\n",
    "dataset= dataset.dropna()\n",
    "dataset= dataset.sample(frac=0.05, random_state=0)\n",
    "\n",
    "labels = dataset.pop('T')\n",
    "normed_data = norm(dataset)\n",
    "\n",
    "#Make predictions\n",
    "predictions = model.predict(normed_data).flatten()\n",
    "\n",
    "plt.scatter(labels, predictions)\n",
    "plt.xlabel('True Values T')\n",
    "plt.ylabel('Predictions T')\n",
    "plt.axis('equal')\n",
    "plt.axis('square')\n",
    "a = plt.plot([-100, 100], [-100, 100])"
   ]
  },
  {
   "cell_type": "code",
   "execution_count": null,
   "metadata": {},
   "outputs": [],
   "source": [
    "#Evaluate efficiency\n",
    "loss, mae, mse = model.evaluate(normed_data, labels, verbose=2)\n",
    "\n",
    "print(\"Testing set Mean Abs Error: {:.2f} Temperature\".format(mae))"
   ]
  }
 ],
 "metadata": {
  "kernelspec": {
   "display_name": "Python 3",
   "language": "python",
   "name": "python3"
  },
  "language_info": {
   "codemirror_mode": {
    "name": "ipython",
    "version": 3
   },
   "file_extension": ".py",
   "mimetype": "text/x-python",
   "name": "python",
   "nbconvert_exporter": "python",
   "pygments_lexer": "ipython3",
   "version": "3.10.5"
  }
 },
 "nbformat": 4,
 "nbformat_minor": 2
}
