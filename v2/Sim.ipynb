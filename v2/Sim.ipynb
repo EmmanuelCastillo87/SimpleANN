{
 "cells": [
  {
   "cell_type": "markdown",
   "metadata": {},
   "source": [
    "![formula](equation_a.png)\n",
    "### Nomenclature\n",
    "<pre>\n",
    "A = surface area (m2)\n",
    "η = efficiency of the solar oven\n",
    "S = entropy (J/K)\n",
    "Tamb = ambient temperature (K)\n",
    "T = temperature at which heat transfer occurs (K)\n",
    "I = irradiance (W/m²)\n",
    "H = enthalpy (J)\n",
    "Cp = specific heat capacity (kJ/kg·K)\n",
    "m = mass (kg)\n",
    "h = convective heat transfer coefficient (W/m²·K)\n",
    "ho = hour angle (15∘ per hour from solar noon)\n",
    "θ​ = solar zenith angle\n",
    "ϕ = latitude\n",
    "δ = solar declination angle, varying with season\n",
    "ny = day of the year (1–365)\n",
    "G = Gibbs energy (J)\n",
    "Ex = Exergy (J)\n",
    "H = Enthalpy (J)\n",
    "</pre>\n",
    "### Constants\n",
    "<pre>\n",
    "k = absorption coefficient for water vapor (varies with wavelength; typically 0.1−0.2 m2/kg)\n",
    "I0 = solar constant (≈1361 W/m² on a horizontal surface) \n",
    "L = latent heat of vaporization (2260kJ/kg).\n",
    "n = exponent, typically around 0.8 for turbulent flow\n",
    "Iz0 =1000W/m2 clear-sky global horizontal irradiance (GHI) at sea level\n",
    "ηsecond-law = second law, typically in the 0.6–0.8 range.\n",
    "</pre>"
   ]
  },
  {
   "cell_type": "code",
   "execution_count": null,
   "metadata": {},
   "outputs": [],
   "source": [
    "K= 0.2\n",
    "I= 1361.0\n",
    "A= 1.5\n",
    "T_amb= 295.15\n",
    "C= 0.0\n",
    "d= 1.0\n",
    "A_cond= 1.0\n",
    "η= 1.0\n",
    "ϵ= 1.0\n",
    "σ= 1.0\n",
    "h= 1.0\n",
    "\n",
    "def T(t: float)-> float:\n",
    "    return T_amb + (η*I*A*(1.0-C))/((ϵ*σ*A*(t**4 - T_amb**4)) + (K*A*A_cond*((t-T_amb)/d)) + (h*A*(t-T_amb)))"
   ]
  },
  {
   "cell_type": "markdown",
   "metadata": {},
   "source": [
    "![graph reference](graph_reference.png)\n",
    "\n",
    "1. Ascending\n",
    "2. Sinusoidal behavior (around 121°)\n",
    "3. Falling\n",
    "\n",
    "tick= 5 seconds"
   ]
  },
  {
   "cell_type": "code",
   "execution_count": null,
   "metadata": {},
   "outputs": [
    {
     "data": {
      "image/png": "[encoded data removed]",
      "text/plain": [
       "<Figure size 432x288 with 1 Axes>"
      ]
     },
     "metadata": {
      "needs_background": "light"
     },
     "output_type": "display_data"
    }
   ],
   "source": [
    "import matplotlib.pyplot as plt\n",
    "import numpy as np\n",
    "\n",
    "stagnation_temperature= 121\n",
    "time_to_stagnation= 720 \n",
    "time_sinusoid= 4230\n",
    "\n",
    "def stage1(t0: float= 26.0, time: float= 720, stagn: float= 121.0):\n",
    "    x= np.array([x for x in range(0, time + 1, 1)])\n",
    "    y= np.linspace(t0, stagn, time + 1)\n",
    "    return x, y\n",
    "\n",
    "def stage2(stagn:float= 121.0, amp: float= 10.0, time: tuple= (time_to_stagnation, time_to_stagnation+time_sinusoid), period: float= 180):\n",
    "    x= np.array([x for x in range(time[0] + 1, time[1] + 1, 1)])\n",
    "    y= amp * np.sin((2 * np.pi / period) * x) + stagn\n",
    "    return x, y\n",
    "\n",
    "def stage3(t0: float= 26.0, stagn:float= 121, time: tuple= (time_to_stagnation, time_to_stagnation+time_sinusoid)):\n",
    "    x= np.array([x + time[1] + 1 for x in range(0, time[0] + 1, 1)])\n",
    "    y= np.linspace(stagn, t0, time[0] + 1)\n",
    "    return x, y\n",
    "\n",
    "x = np.concatenate((stage1()[0], stage2()[0], stage3()[0]))\n",
    "y = np.concatenate((stage1()[1], stage2()[1], stage3()[1]))\n",
    "plt.plot(x, y, color=\"blue\", linestyle=\"-\", linewidth=2)\n",
    "plt.xlabel(\"t\")\n",
    "plt.ylabel(\"°C\")\n",
    "plt.show()"
   ]
  }
 ],
 "metadata": {
  "kernelspec": {
   "display_name": "Python 3",
   "language": "python",
   "name": "python3"
  },
  "language_info": {
   "codemirror_mode": {
    "name": "ipython",
    "version": 3
   },
   "file_extension": ".py",
   "mimetype": "text/x-python",
   "name": "python",
   "nbconvert_exporter": "python",
   "pygments_lexer": "ipython3",
   "version": "3.10.5"
  }
 },
 "nbformat": 4,
 "nbformat_minor": 2
}
