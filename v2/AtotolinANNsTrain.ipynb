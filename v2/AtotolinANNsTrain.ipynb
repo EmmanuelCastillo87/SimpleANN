{
 "cells": [
  {
   "cell_type": "code",
   "execution_count": 2,
   "metadata": {},
   "outputs": [
    {
     "name": "stdout",
     "output_type": "stream",
     "text": [
      "            min          T         Ti\n",
      "AT_3 4656  0.52  33.550769  31.347692\n",
      "     4657  0.52  33.624615  31.347692\n",
      "     4658  0.52  33.710769  31.335385\n",
      "     4659  0.50  33.796923  31.384615\n",
      "     4660  0.52  33.883077  31.532308\n"
     ]
    }
   ],
   "source": [
    "import numpy as np\n",
    "import pandas as pd\n",
    "import tensorflow as tf\n",
    "from tensorflow import keras\n",
    "from keras import layers\n",
    "\n",
    "import matplotlib.pyplot as plt\n",
    "\n",
    "MODELS= ['AT_1', 'AT_2', 'AT_3']\n",
    "#Shift = 22 means 30 seconds after, -22 is 30 seconds before (aprox)\n",
    "SHIFT= 22\n",
    "RATIO= 80.0/65.0\n",
    "MEAN_TEMP= 67.872055\n",
    "MEAN_TIME= 0.536641\n",
    "STD_TEMP= 14.012810\n",
    "STD_TIME= 0.069499\n",
    "ds= {}\n",
    "\n",
    "#Load data\n",
    "raw_dataset= pd.read_csv('data.csv', na_values='?')\n",
    "raw_dataset.pop('A')\n",
    "\n",
    "#Preprocess data\n",
    "for m in MODELS: \n",
    "    ds[m]= raw_dataset.copy()\n",
    "    ds[m]= ds[m].drop(ds[m][ds[m]['model'] != m].index)\n",
    "    ds[m].pop('model')\n",
    "    ds[m]['Ti']= ds[m]['T'].shift(SHIFT)\n",
    "    ds[m]['min']= ds[m][\"min\"].rolling(window=SHIFT, min_periods=1).sum()\n",
    "    ds[m]= ds[m].dropna() \n",
    "ds_t= pd.concat(ds)\n",
    "ds_t['Ti']= ds_t['Ti'] * RATIO\n",
    "ds_t['T']= ds_t['T'] * RATIO\n",
    "print(ds_t.head())"
   ]
  },
  {
   "cell_type": "code",
   "execution_count": 3,
   "metadata": {},
   "outputs": [
    {
     "name": "stderr",
     "output_type": "stream",
     "text": [
      "c:\\Users\\Josè Castillo\\AppData\\Local\\Programs\\Python\\Python310\\lib\\site-packages\\keras\\src\\layers\\core\\dense.py:87: UserWarning: Do not pass an `input_shape`/`input_dim` argument to a layer. When using Sequential models, prefer using an `Input(shape)` object as the first layer in the model instead.\n",
      "  super().__init__(activity_regularizer=activity_regularizer, **kwargs)\n"
     ]
    },
    {
     "data": {
      "text/html": [
       "<div>\n",
       "<style scoped>\n",
       "    .dataframe tbody tr th:only-of-type {\n",
       "        vertical-align: middle;\n",
       "    }\n",
       "\n",
       "    .dataframe tbody tr th {\n",
       "        vertical-align: top;\n",
       "    }\n",
       "\n",
       "    .dataframe thead th {\n",
       "        text-align: right;\n",
       "    }\n",
       "</style>\n",
       "<table border=\"1\" class=\"dataframe\">\n",
       "  <thead>\n",
       "    <tr style=\"text-align: right;\">\n",
       "      <th></th>\n",
       "      <th>loss</th>\n",
       "      <th>mae</th>\n",
       "      <th>mse</th>\n",
       "      <th>val_loss</th>\n",
       "      <th>val_mae</th>\n",
       "      <th>val_mse</th>\n",
       "      <th>epoch</th>\n",
       "    </tr>\n",
       "  </thead>\n",
       "  <tbody>\n",
       "    <tr>\n",
       "      <th>40</th>\n",
       "      <td>0.918749</td>\n",
       "      <td>0.775378</td>\n",
       "      <td>0.918749</td>\n",
       "      <td>0.305087</td>\n",
       "      <td>0.522991</td>\n",
       "      <td>0.305087</td>\n",
       "      <td>40</td>\n",
       "    </tr>\n",
       "    <tr>\n",
       "      <th>41</th>\n",
       "      <td>0.660789</td>\n",
       "      <td>0.689697</td>\n",
       "      <td>0.660789</td>\n",
       "      <td>0.697892</td>\n",
       "      <td>0.651103</td>\n",
       "      <td>0.697892</td>\n",
       "      <td>41</td>\n",
       "    </tr>\n",
       "    <tr>\n",
       "      <th>42</th>\n",
       "      <td>0.857136</td>\n",
       "      <td>0.811509</td>\n",
       "      <td>0.857136</td>\n",
       "      <td>1.134641</td>\n",
       "      <td>1.028511</td>\n",
       "      <td>1.134641</td>\n",
       "      <td>42</td>\n",
       "    </tr>\n",
       "    <tr>\n",
       "      <th>43</th>\n",
       "      <td>0.748190</td>\n",
       "      <td>0.617129</td>\n",
       "      <td>0.748190</td>\n",
       "      <td>0.103083</td>\n",
       "      <td>0.296344</td>\n",
       "      <td>0.103083</td>\n",
       "      <td>43</td>\n",
       "    </tr>\n",
       "    <tr>\n",
       "      <th>44</th>\n",
       "      <td>0.941755</td>\n",
       "      <td>0.825260</td>\n",
       "      <td>0.941755</td>\n",
       "      <td>0.365323</td>\n",
       "      <td>0.563294</td>\n",
       "      <td>0.365323</td>\n",
       "      <td>44</td>\n",
       "    </tr>\n",
       "  </tbody>\n",
       "</table>\n",
       "</div>"
      ],
      "text/plain": [
       "        loss       mae       mse  val_loss   val_mae   val_mse  epoch\n",
       "40  0.918749  0.775378  0.918749  0.305087  0.522991  0.305087     40\n",
       "41  0.660789  0.689697  0.660789  0.697892  0.651103  0.697892     41\n",
       "42  0.857136  0.811509  0.857136  1.134641  1.028511  1.134641     42\n",
       "43  0.748190  0.617129  0.748190  0.103083  0.296344  0.103083     43\n",
       "44  0.941755  0.825260  0.941755  0.365323  0.563294  0.365323     44"
      ]
     },
     "execution_count": 3,
     "metadata": {},
     "output_type": "execute_result"
    }
   ],
   "source": [
    "\n",
    "#Split tran and test sets\n",
    "train= ds_t.sample(frac=0.8, random_state=0)\n",
    "test= ds_t.drop(train.index)\n",
    "\n",
    "#Get data stats\n",
    "train_stats = train.describe()\n",
    "train_stats.pop('T')\n",
    "train_stats = train_stats.transpose()\n",
    "\n",
    "#Pop the output from the dataset\n",
    "train_labels = train.pop('T')\n",
    "test_labels = test.pop('T')\n",
    "\n",
    "#Normalize data\n",
    "def norm(x):\n",
    "  return (x - train_stats['mean']) / train_stats['std']\n",
    "normed_train_data = norm(train)\n",
    "normed_test_data = norm(test)\n",
    "\n",
    "#Build model\n",
    "def build_model():\n",
    "  model = keras.Sequential([\n",
    "    layers.Dense(250, activation='relu', input_shape=[len(train.keys())]),\n",
    "    layers.Dense(250, activation='relu'),\n",
    "    layers.Dense(1)\n",
    "  ])\n",
    "\n",
    "  optimizer = tf.keras.optimizers.RMSprop(0.001)\n",
    "  model.compile(loss='mse', optimizer=optimizer, metrics=['mae', 'mse'])\n",
    "  \n",
    "  return model\n",
    "\n",
    "model = build_model()\n",
    "early_stop = keras.callbacks.EarlyStopping(monitor='val_loss', patience=10)\n",
    "\n",
    "#Run the model\n",
    "EPOCHS = 1000\n",
    "history = model.fit(\n",
    "  normed_train_data, train_labels,\n",
    "  epochs=EPOCHS, validation_split = 0.2, verbose=0,\n",
    "  callbacks=[early_stop])\n",
    "\n",
    "hist = pd.DataFrame(history.history)\n",
    "hist['epoch'] = history.epoch\n",
    "hist.tail()"
   ]
  },
  {
   "cell_type": "code",
   "execution_count": 4,
   "metadata": {},
   "outputs": [
    {
     "name": "stdout",
     "output_type": "stream",
     "text": [
      "\u001b[1m1/1\u001b[0m \u001b[32m━━━━━━━━━━━━━━━━━━━━\u001b[0m\u001b[37m\u001b[0m \u001b[1m0s\u001b[0m 88ms/step\n",
      "[33.74002]\n"
     ]
    }
   ],
   "source": [
    "def cold(t: float):\n",
    "    t= (33.009231 - MEAN_TEMP) / STD_TEMP\n",
    "    m= (0.51 - MEAN_TIME)/ STD_TIME\n",
    "    return model.predict(pd.DataFrame({'min': [m], 'Ti': [t]})).flatten()\n",
    "\n",
    "print(cold(33.009231))"
   ]
  },
  {
   "cell_type": "code",
   "execution_count": null,
   "metadata": {},
   "outputs": [],
   "source": [
    "print((34.412308 - MEAN_TEMP) / STD_TEMP, (0.51 - MEAN_TIME)/ STD_TIME)"
   ]
  },
  {
   "cell_type": "code",
   "execution_count": null,
   "metadata": {},
   "outputs": [],
   "source": [
    "print(normed_test_data.head())\n",
    "print(test.head())\n",
    "print(model.predict(normed_test_data).flatten())\n"
   ]
  },
  {
   "cell_type": "code",
   "execution_count": null,
   "metadata": {},
   "outputs": [],
   "source": [
    "#Test the model\n",
    "test_predictions = model.predict(normed_test_data).flatten()\n",
    "\n",
    "print(test_predictions)"
   ]
  },
  {
   "cell_type": "code",
   "execution_count": null,
   "metadata": {},
   "outputs": [],
   "source": [
    "print(test_labels)"
   ]
  },
  {
   "cell_type": "code",
   "execution_count": 5,
   "metadata": {},
   "outputs": [],
   "source": [
    "model.save('models/warmAto.keras')"
   ]
  }
 ],
 "metadata": {
  "kernelspec": {
   "display_name": "Python 3",
   "language": "python",
   "name": "python3"
  },
  "language_info": {
   "codemirror_mode": {
    "name": "ipython",
    "version": 3
   },
   "file_extension": ".py",
   "mimetype": "text/x-python",
   "name": "python",
   "nbconvert_exporter": "python",
   "pygments_lexer": "ipython3",
   "version": "3.10.5"
  }
 },
 "nbformat": 4,
 "nbformat_minor": 2
}
