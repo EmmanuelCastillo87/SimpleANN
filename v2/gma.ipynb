{
 "cells": [
  {
   "cell_type": "code",
   "execution_count": null,
   "metadata": {},
   "outputs": [
    {
     "data": {
      "text/plain": [
       "array([         nan,          nan,  71.92584959,  76.86725879,\n",
       "        95.25126467, 115.64118215, 138.30862803, 135.9117074 ,\n",
       "       126.24651495, 119.35767911, 118.43238857, 121.60618332,\n",
       "       119.19409044, 113.27367294, 112.30547454, 112.96417273,\n",
       "       119.48914778, 120.51927746, 120.51927746, 119.26049847,\n",
       "       118.92264822])"
      ]
     },
     "execution_count": 4,
     "metadata": {},
     "output_type": "execute_result"
    }
   ],
   "source": [
    "import numpy as np\n",
    "import pandas as pd\n",
    "import tensorflow as tf\n",
    "from tensorflow import keras\n",
    "from tensorflow.keras import layers\n",
    "\n",
    "def gma(data, window_size):\n",
    "    \"\"\"\n",
    "    Calculate the geometric moving average for a given data series.\n",
    "    \n",
    "    Parameters:\n",
    "        data (list or numpy array): The input data series.\n",
    "        window_size (int): The size of the moving window.\n",
    "    \n",
    "    Returns:\n",
    "        list: Smoothed data using geometric moving average.\n",
    "    \"\"\"\n",
    "    gma = []\n",
    "    for i in range(len(data)):\n",
    "        if i < window_size - 1:\n",
    "            # Not enough data for a full window, append NaN\n",
    "            gma.append(np.nan)\n",
    "        else:\n",
    "            # Calculate geometric mean for the current window\n",
    "            window = data[i - window_size + 1:i + 1]\n",
    "            gmean = np.prod(window) ** (1 / window_size)\n",
    "            gma.append(gmean)\n",
    "    return np.array(gma)\n",
    "\n",
    "#Load data\n",
    "raw_dataset= pd.read_csv('data.csv', na_values='?')\n",
    "raw_dataset.pop('A')\n",
    "ds1 = raw_dataset.copy()\n",
    "ds2 = raw_dataset.copy()\n",
    "ds3 = raw_dataset.copy()\n",
    "ds4 = raw_dataset.copy()\n",
    "\n",
    "#Preprocess data\n",
    "ds1= ds1.drop(ds1[ds1['model'] != 'TL_M'].index)\n",
    "ds2= ds2.drop(ds2[ds2['model'] != 'T_20'].index)\n",
    "ds3= ds3.drop(ds3[ds3['model'] != 'T_21'].index)\n",
    "ds4= ds4.drop(ds4[ds4['model'] != 'T_23'].index)\n",
    "\n",
    "t= gma(ds1['T'], 3)\n",
    "min= gma(ds1['min'], 3)\n",
    "t"
   ]
  },
  {
   "cell_type": "code",
   "execution_count": null,
   "metadata": {},
   "outputs": [],
   "source": []
  }
 ],
 "metadata": {
  "kernelspec": {
   "display_name": "Python 3",
   "language": "python",
   "name": "python3"
  },
  "language_info": {
   "codemirror_mode": {
    "name": "ipython",
    "version": 3
   },
   "file_extension": ".py",
   "mimetype": "text/x-python",
   "name": "python",
   "nbconvert_exporter": "python",
   "pygments_lexer": "ipython3",
   "version": "3.10.5"
  }
 },
 "nbformat": 4,
 "nbformat_minor": 2
}
