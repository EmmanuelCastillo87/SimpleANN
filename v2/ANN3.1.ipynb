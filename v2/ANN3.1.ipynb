{
 "cells": [
  {
   "cell_type": "code",
   "execution_count": 8,
   "metadata": {},
   "outputs": [
    {
     "name": "stderr",
     "output_type": "stream",
     "text": [
      "c:\\Users\\Josè Castillo\\AppData\\Local\\Programs\\Python\\Python310\\lib\\site-packages\\keras\\src\\layers\\core\\dense.py:87: UserWarning: Do not pass an `input_shape`/`input_dim` argument to a layer. When using Sequential models, prefer using an `Input(shape)` object as the first layer in the model instead.\n",
      "  super().__init__(activity_regularizer=activity_regularizer, **kwargs)\n"
     ]
    },
    {
     "data": {
      "text/html": [
       "<div>\n",
       "<style scoped>\n",
       "    .dataframe tbody tr th:only-of-type {\n",
       "        vertical-align: middle;\n",
       "    }\n",
       "\n",
       "    .dataframe tbody tr th {\n",
       "        vertical-align: top;\n",
       "    }\n",
       "\n",
       "    .dataframe thead th {\n",
       "        text-align: right;\n",
       "    }\n",
       "</style>\n",
       "<table border=\"1\" class=\"dataframe\">\n",
       "  <thead>\n",
       "    <tr style=\"text-align: right;\">\n",
       "      <th></th>\n",
       "      <th>loss</th>\n",
       "      <th>mae</th>\n",
       "      <th>mse</th>\n",
       "      <th>val_loss</th>\n",
       "      <th>val_mae</th>\n",
       "      <th>val_mse</th>\n",
       "      <th>epoch</th>\n",
       "    </tr>\n",
       "  </thead>\n",
       "  <tbody>\n",
       "    <tr>\n",
       "      <th>151</th>\n",
       "      <td>167.081802</td>\n",
       "      <td>9.556064</td>\n",
       "      <td>167.081802</td>\n",
       "      <td>781.016052</td>\n",
       "      <td>21.036144</td>\n",
       "      <td>781.016052</td>\n",
       "      <td>151</td>\n",
       "    </tr>\n",
       "    <tr>\n",
       "      <th>152</th>\n",
       "      <td>156.056107</td>\n",
       "      <td>9.142585</td>\n",
       "      <td>156.056107</td>\n",
       "      <td>787.935120</td>\n",
       "      <td>20.838192</td>\n",
       "      <td>787.935120</td>\n",
       "      <td>152</td>\n",
       "    </tr>\n",
       "    <tr>\n",
       "      <th>153</th>\n",
       "      <td>147.276947</td>\n",
       "      <td>8.848978</td>\n",
       "      <td>147.276947</td>\n",
       "      <td>798.199097</td>\n",
       "      <td>20.649349</td>\n",
       "      <td>798.199097</td>\n",
       "      <td>153</td>\n",
       "    </tr>\n",
       "    <tr>\n",
       "      <th>154</th>\n",
       "      <td>141.210876</td>\n",
       "      <td>8.629411</td>\n",
       "      <td>141.210876</td>\n",
       "      <td>797.156982</td>\n",
       "      <td>20.439762</td>\n",
       "      <td>797.156982</td>\n",
       "      <td>154</td>\n",
       "    </tr>\n",
       "    <tr>\n",
       "      <th>155</th>\n",
       "      <td>136.692856</td>\n",
       "      <td>8.493308</td>\n",
       "      <td>136.692871</td>\n",
       "      <td>802.578247</td>\n",
       "      <td>20.251801</td>\n",
       "      <td>802.578247</td>\n",
       "      <td>155</td>\n",
       "    </tr>\n",
       "  </tbody>\n",
       "</table>\n",
       "</div>"
      ],
      "text/plain": [
       "           loss       mae         mse    val_loss    val_mae     val_mse  \\\n",
       "151  167.081802  9.556064  167.081802  781.016052  21.036144  781.016052   \n",
       "152  156.056107  9.142585  156.056107  787.935120  20.838192  787.935120   \n",
       "153  147.276947  8.848978  147.276947  798.199097  20.649349  798.199097   \n",
       "154  141.210876  8.629411  141.210876  797.156982  20.439762  797.156982   \n",
       "155  136.692856  8.493308  136.692871  802.578247  20.251801  802.578247   \n",
       "\n",
       "     epoch  \n",
       "151    151  \n",
       "152    152  \n",
       "153    153  \n",
       "154    154  \n",
       "155    155  "
      ]
     },
     "execution_count": 8,
     "metadata": {},
     "output_type": "execute_result"
    }
   ],
   "source": [
    "import numpy as np\n",
    "import pandas as pd\n",
    "import tensorflow as tf\n",
    "from tensorflow import keras\n",
    "from tensorflow.keras import layers\n",
    "import matplotlib.pyplot as plt\n",
    "\n",
    "#MODELS= ['TL_M', 'T_20', 'T_21', 'T_23', 'AT_1', 'AT_2', 'AT_3']\n",
    "MODELS= ['TL_M', 'T_20', 'T_21', 'AT_1', 'AT_2', 'AT_3']\n",
    "ds= {}\n",
    "\n",
    "#Load data\n",
    "raw_dataset= pd.read_csv('data.csv', na_values='?')\n",
    "\n",
    "#Preprocess data\n",
    "for m in MODELS: \n",
    "    ds[m]= raw_dataset.copy()\n",
    "    ds[m]= ds[m].drop(ds[m][ds[m]['model'] != m].index)\n",
    "    ds[m].pop('model')\n",
    "    ds[m]['Ti']= ds[m]['T'].shift(1)\n",
    "    ds[m]= ds[m].dropna()\n",
    "    if ds[m].count()['T'] > 100:\n",
    "        ds[m]= ds[m].sample(n=20, random_state=0) \n",
    "ds_t= pd.concat(ds)\n",
    "\n",
    "#Split tran and test sets\n",
    "train= ds_t.sample(frac=0.8, random_state=0)\n",
    "test= ds_t.drop(train.index)\n",
    "\n",
    "#Get data stats\n",
    "train_stats = train.describe()\n",
    "train_stats.pop('T')\n",
    "train_stats = train_stats.transpose()\n",
    "\n",
    "#Pop the output from the dataset\n",
    "train_labels = train.pop('T')\n",
    "test_labels = test.pop('T')\n",
    "\n",
    "#Normalize data\n",
    "def norm(x):\n",
    "  return (x - train_stats['mean']) / train_stats['std']\n",
    "normed_train_data = norm(train)\n",
    "normed_test_data = norm(test)\n",
    "\n",
    "#Build model\n",
    "def build_model():\n",
    "  model = keras.Sequential([\n",
    "    layers.Dense(64, activation='relu', input_shape=[len(train.keys())]),\n",
    "    layers.Dense(64, activation='relu'),\n",
    "    layers.Dense(1)\n",
    "  ])\n",
    "\n",
    "  optimizer = tf.keras.optimizers.RMSprop(0.001)\n",
    "  model.compile(loss='mse', optimizer=optimizer, metrics=['mae', 'mse'])\n",
    "  \n",
    "  return model\n",
    "\n",
    "model = build_model()\n",
    "early_stop = keras.callbacks.EarlyStopping(monitor='val_loss', patience=10)\n",
    "\n",
    "#Run the model\n",
    "EPOCHS = 1000\n",
    "history = model.fit(\n",
    "  normed_train_data, train_labels,\n",
    "  epochs=EPOCHS, validation_split = 0.2, verbose=0,\n",
    "  callbacks=[early_stop])\n",
    "\n",
    "hist = pd.DataFrame(history.history)\n",
    "hist['epoch'] = history.epoch\n",
    "hist.tail()"
   ]
  },
  {
   "cell_type": "code",
   "execution_count": 9,
   "metadata": {},
   "outputs": [
    {
     "name": "stdout",
     "output_type": "stream",
     "text": [
      "1/1 - 0s - 54ms/step - loss: 72.2363 - mae: 7.3280 - mse: 72.2363\n",
      "Testing set Mean Abs Error: 7.33 °C\n"
     ]
    }
   ],
   "source": [
    "#Evaluate the model\n",
    "loss, mae, mse = model.evaluate(normed_test_data, test_labels, verbose=2)\n",
    "\n",
    "print(\"Testing set Mean Abs Error: {:.2f} °C\".format(mae))\n"
   ]
  },
  {
   "cell_type": "code",
   "execution_count": 10,
   "metadata": {},
   "outputs": [
    {
     "name": "stdout",
     "output_type": "stream",
     "text": [
      "\u001b[1m1/1\u001b[0m \u001b[32m━━━━━━━━━━━━━━━━━━━━\u001b[0m\u001b[37m\u001b[0m \u001b[1m0s\u001b[0m 65ms/step\n"
     ]
    },
    {
     "data": {
      "image/png": "[encoded data removed]",
      "text/plain": [
       "<Figure size 432x288 with 1 Axes>"
      ]
     },
     "metadata": {
      "needs_background": "light"
     },
     "output_type": "display_data"
    }
   ],
   "source": [
    "#Test the model\n",
    "test_predictions = model.predict(normed_test_data).flatten()\n",
    "\n",
    "plt.scatter(test_labels, test_predictions)\n",
    "plt.xlabel('True Values T')\n",
    "plt.ylabel('Predictions T')\n",
    "plt.axis('equal')\n",
    "plt.axis('square')\n",
    "_ = plt.plot([-220, 220], [-220, 220])"
   ]
  },
  {
   "cell_type": "code",
   "execution_count": 11,
   "metadata": {},
   "outputs": [
    {
     "name": "stdout",
     "output_type": "stream",
     "text": [
      "min    79\n",
      "T      79\n",
      "A      79\n",
      "Ti     79\n",
      "dtype: int64\n"
     ]
    }
   ],
   "source": [
    "print(ds_t.count())"
   ]
  }
 ],
 "metadata": {
  "kernelspec": {
   "display_name": "Python 3",
   "language": "python",
   "name": "python3"
  },
  "language_info": {
   "codemirror_mode": {
    "name": "ipython",
    "version": 3
   },
   "file_extension": ".py",
   "mimetype": "text/x-python",
   "name": "python",
   "nbconvert_exporter": "python",
   "pygments_lexer": "ipython3",
   "version": "3.10.5"
  }
 },
 "nbformat": 4,
 "nbformat_minor": 2
}
