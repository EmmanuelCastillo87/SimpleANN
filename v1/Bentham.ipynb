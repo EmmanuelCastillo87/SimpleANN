{
 "cells": [
  {
   "cell_type": "code",
   "execution_count": 28,
   "metadata": {},
   "outputs": [
    {
     "name": "stdout",
     "output_type": "stream",
     "text": [
      "Epoch: 1; Error: 2608.4854187696114;\n",
      "Epoch: 2; Error: 2608.468627810325;\n"
     ]
    },
    {
     "data": {
      "text/plain": [
       "array([[1.]])"
      ]
     },
     "execution_count": 28,
     "metadata": {},
     "output_type": "execute_result"
    }
   ],
   "source": [
    "import numpy as np\n",
    "import pandas as pd\n",
    "from datetime import time\n",
    "import neurolab as nl\n",
    "\n",
    "_LIMS_=[[800,1200],[14,30],[30,100],[30,100],[60,150],[4,5],[4,5]]\n",
    "_NEURONS_= 200\n",
    "\n",
    "def seconds_difference(t1: time, t2: time):\n",
    "    return (t1.hour * 3600 + t1.minute * 60 + t1.second) - (t2.hour * 3600 + t2.minute * 60 + t2.second)\n",
    "\n",
    "#Read and preprocess data\n",
    "df= pd.read_csv('data.csv')\n",
    "df['Time'] = pd.to_datetime(df['Time'], format='%H:%M').dt.time\n",
    "df = df.drop('Time', axis=1)\n",
    "df.drop(0, axis=0, inplace=True)\n",
    "#Define inputs and outputs\n",
    "target= np.array(df['ηt']).reshape(16, 1)\n",
    "input= np.array([row[:-1] for row in df.values.tolist()])\n",
    "#Create Network\n",
    "net= nl.net.newff(_LIMS_, [_NEURONS_, 1])\n",
    "err= net.train(input, target, show=1, epochs=100)\n",
    "\n",
    "net.sim([[870,15,40,36,72,4.17,4.17]])"
   ]
  },
  {
   "cell_type": "code",
   "execution_count": 35,
   "metadata": {},
   "outputs": [
    {
     "name": "stdout",
     "output_type": "stream",
     "text": [
      "105 91.0\n"
     ]
    }
   ],
   "source": [
    "n=14\n",
    "m=n\n",
    "a=0\n",
    "\n",
    "while(n>0):\n",
    "    a+=n\n",
    "    n-=1\n",
    "print(a, m*(m-1)/2)"
   ]
  }
 ],
 "metadata": {
  "kernelspec": {
   "display_name": "Python 3",
   "language": "python",
   "name": "python3"
  },
  "language_info": {
   "codemirror_mode": {
    "name": "ipython",
    "version": 3
   },
   "file_extension": ".py",
   "mimetype": "text/x-python",
   "name": "python",
   "nbconvert_exporter": "python",
   "pygments_lexer": "ipython3",
   "version": "3.10.5"
  }
 },
 "nbformat": 4,
 "nbformat_minor": 2
}
