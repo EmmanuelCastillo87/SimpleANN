{
 "cells": [
  {
   "cell_type": "code",
   "execution_count": 186,
   "metadata": {},
   "outputs": [
    {
     "name": "stdout",
     "output_type": "stream",
     "text": [
      "                 T            I           Ti\n",
      "count  1902.000000  1902.000000  1902.000000\n",
      "mean     41.580437   806.499474    41.580437\n",
      "std      25.406248   337.037733    25.406248\n",
      "min      18.318966    19.000000    18.318966\n",
      "25%      29.633621   668.250000    29.633621\n",
      "50%      32.543103   971.000000    32.543103\n",
      "75%      38.254310  1033.000000    38.254310\n",
      "max     125.000000  1508.000000   125.000000\n"
     ]
    }
   ],
   "source": [
    "import pandas as pd\n",
    "import tensorflow as tf\n",
    "from tensorflow import keras\n",
    "from keras import layers\n",
    "\n",
    "import matplotlib.pyplot as plt\n",
    "\n",
    "RATIO = 125.0/116.0\n",
    "DATES = ['12.04.2024', '16.04.2024', '17.04.2024', '18.04.2024', '23.04.2024', \n",
    "         '25.04.2024', '30.04.2024', '09.05.2024', '15.08.2024', '28.08.2024',\n",
    "         '11.10.2024', '14.10.2024', '09.12.2024', '10.12.2024']\n",
    "ds = {}\n",
    "\n",
    "#Load data\n",
    "raw_dataset= pd.read_csv('YuriData.TXT', na_values='NaN', \n",
    "                         names=['WeekDay', 'Date', 'Hour', \n",
    "                         'T1', 'T2', 'T3', 'P','I'])\n",
    "raw_dataset= pd.DataFrame({'T': raw_dataset.pop('T3'), \n",
    "                            'I': raw_dataset.pop('I'), \n",
    "                            'Date': raw_dataset.pop('Date')})\n",
    "raw_dataset = raw_dataset.dropna()\n",
    "for m in DATES:\n",
    "    ds1= raw_dataset.copy()\n",
    "    ds1= ds1.drop(ds1[ds1['Date'] != m].index)\n",
    "    ds1['Ti']= ds1['T'].shift(1)\n",
    "    ds2= raw_dataset.copy()\n",
    "    ds2= ds2.drop(ds2[ds2['Date'] != m].index)\n",
    "    ds2['Ti']= ds2['T'].shift(-1)\n",
    "    ds[m]= pd.concat([ds1, ds2])\n",
    "ds_t= pd.concat(ds)\n",
    "ds_t.pop('Date')\n",
    "ds_t= ds_t.dropna()\n",
    "#ds_t= ds_t.drop(ds_t[ds_t['I'] < 500].index)\n",
    "ds_t['Ti']= ds_t['Ti'] * RATIO\n",
    "ds_t['T']= ds_t['T'] * RATIO\n",
    "#ds_t['Warm'] = (ds_t['Ti'] < ds_t['T'])*1.0\n",
    "#ds_t['Cold'] = (ds_t['Ti'] > ds_t['T'])*1.0\n",
    "#ds_t = ds_t.drop(ds_t[ds_t['Cold'] == ds_t['Warm']].index)\n",
    "#The time is not relevant here because the interval is constant (about 1 minute)\n",
    "print(ds_t.describe())\n"
   ]
  },
  {
   "cell_type": "code",
   "execution_count": 187,
   "metadata": {},
   "outputs": [
    {
     "name": "stdout",
     "output_type": "stream",
     "text": [
      "     count        mean         std        min         25%         50%  \\\n",
      "I   1522.0  810.124836  337.399184  19.000000  695.000000  975.000000   \n",
      "Ti  1522.0   41.777564   25.685219  18.318966   29.633621   32.704741   \n",
      "\n",
      "           75%     max  \n",
      "I   1037.75000  1508.0  \n",
      "Ti    38.25431   125.0  \n"
     ]
    }
   ],
   "source": [
    "#Split tran and test sets\n",
    "train= ds_t.sample(frac=0.8, random_state=0)\n",
    "test= ds_t.drop(train.index)\n",
    "\n",
    "#Get data stats\n",
    "train_stats = train.describe()\n",
    "train_stats.pop('T')\n",
    "train_stats = train_stats.transpose()\n",
    "print(train_stats)"
   ]
  },
  {
   "cell_type": "code",
   "execution_count": 188,
   "metadata": {},
   "outputs": [
    {
     "name": "stderr",
     "output_type": "stream",
     "text": [
      "c:\\Users\\Josè Castillo\\AppData\\Local\\Programs\\Python\\Python310\\lib\\site-packages\\keras\\src\\layers\\core\\dense.py:87: UserWarning: Do not pass an `input_shape`/`input_dim` argument to a layer. When using Sequential models, prefer using an `Input(shape)` object as the first layer in the model instead.\n",
      "  super().__init__(activity_regularizer=activity_regularizer, **kwargs)\n"
     ]
    },
    {
     "data": {
      "text/html": [
       "<div>\n",
       "<style scoped>\n",
       "    .dataframe tbody tr th:only-of-type {\n",
       "        vertical-align: middle;\n",
       "    }\n",
       "\n",
       "    .dataframe tbody tr th {\n",
       "        vertical-align: top;\n",
       "    }\n",
       "\n",
       "    .dataframe thead th {\n",
       "        text-align: right;\n",
       "    }\n",
       "</style>\n",
       "<table border=\"1\" class=\"dataframe\">\n",
       "  <thead>\n",
       "    <tr style=\"text-align: right;\">\n",
       "      <th></th>\n",
       "      <th>loss</th>\n",
       "      <th>mae</th>\n",
       "      <th>mse</th>\n",
       "      <th>val_loss</th>\n",
       "      <th>val_mae</th>\n",
       "      <th>val_mse</th>\n",
       "      <th>epoch</th>\n",
       "    </tr>\n",
       "  </thead>\n",
       "  <tbody>\n",
       "    <tr>\n",
       "      <th>31</th>\n",
       "      <td>1.810355</td>\n",
       "      <td>0.920598</td>\n",
       "      <td>1.810355</td>\n",
       "      <td>7.778341</td>\n",
       "      <td>2.594882</td>\n",
       "      <td>7.778341</td>\n",
       "      <td>31</td>\n",
       "    </tr>\n",
       "    <tr>\n",
       "      <th>32</th>\n",
       "      <td>1.825747</td>\n",
       "      <td>0.972697</td>\n",
       "      <td>1.825747</td>\n",
       "      <td>5.511818</td>\n",
       "      <td>1.632941</td>\n",
       "      <td>5.511818</td>\n",
       "      <td>32</td>\n",
       "    </tr>\n",
       "    <tr>\n",
       "      <th>33</th>\n",
       "      <td>1.631090</td>\n",
       "      <td>0.922756</td>\n",
       "      <td>1.631090</td>\n",
       "      <td>3.108402</td>\n",
       "      <td>1.464916</td>\n",
       "      <td>3.108402</td>\n",
       "      <td>33</td>\n",
       "    </tr>\n",
       "    <tr>\n",
       "      <th>34</th>\n",
       "      <td>1.612162</td>\n",
       "      <td>0.920660</td>\n",
       "      <td>1.612162</td>\n",
       "      <td>3.331418</td>\n",
       "      <td>1.594445</td>\n",
       "      <td>3.331418</td>\n",
       "      <td>34</td>\n",
       "    </tr>\n",
       "    <tr>\n",
       "      <th>35</th>\n",
       "      <td>1.731583</td>\n",
       "      <td>0.959434</td>\n",
       "      <td>1.731583</td>\n",
       "      <td>2.231132</td>\n",
       "      <td>1.253911</td>\n",
       "      <td>2.231132</td>\n",
       "      <td>35</td>\n",
       "    </tr>\n",
       "  </tbody>\n",
       "</table>\n",
       "</div>"
      ],
      "text/plain": [
       "        loss       mae       mse  val_loss   val_mae   val_mse  epoch\n",
       "31  1.810355  0.920598  1.810355  7.778341  2.594882  7.778341     31\n",
       "32  1.825747  0.972697  1.825747  5.511818  1.632941  5.511818     32\n",
       "33  1.631090  0.922756  1.631090  3.108402  1.464916  3.108402     33\n",
       "34  1.612162  0.920660  1.612162  3.331418  1.594445  3.331418     34\n",
       "35  1.731583  0.959434  1.731583  2.231132  1.253911  2.231132     35"
      ]
     },
     "execution_count": 188,
     "metadata": {},
     "output_type": "execute_result"
    }
   ],
   "source": [
    "#Constants from the dataset to normalize\n",
    "MEAN_TEMP= 41.777564\n",
    "MEAN_IRD= 810.124836\n",
    "STD_TEMP= 25.685219\n",
    "STD_IRD= 337.399184\n",
    "\n",
    "#Pop the output from the dataset\n",
    "train_labels = train.pop('T')\n",
    "test_labels = test.pop('T')\n",
    "\n",
    "#Normalize data\n",
    "def norm(x):\n",
    "  return (x - train_stats['mean']) / train_stats['std']\n",
    "normed_train_data = norm(train)\n",
    "normed_test_data = norm(test)\n",
    "\n",
    "#Build model\n",
    "def build_model():\n",
    "  model = keras.Sequential([\n",
    "    layers.Dense(250, activation='relu', input_shape=[len(train.keys())]),\n",
    "    layers.Dense(250, activation='relu'),\n",
    "    layers.Dense(1)\n",
    "  ])\n",
    "\n",
    "  optimizer = tf.keras.optimizers.RMSprop(0.001)\n",
    "  model.compile(loss='mse', optimizer=optimizer, metrics=['mae', 'mse'])\n",
    "  \n",
    "  return model\n",
    "\n",
    "model = build_model()\n",
    "early_stop = keras.callbacks.EarlyStopping(monitor='val_loss', patience=10)\n",
    "\n",
    "#Run the model\n",
    "EPOCHS = 1000\n",
    "history = model.fit(\n",
    "  normed_train_data, train_labels,\n",
    "  epochs=EPOCHS, validation_split = 0.2, verbose=0,\n",
    "  callbacks=[early_stop])\n",
    "\n",
    "hist = pd.DataFrame(history.history)\n",
    "hist['epoch'] = history.epoch\n",
    "hist.tail()"
   ]
  },
  {
   "cell_type": "code",
   "execution_count": 189,
   "metadata": {},
   "outputs": [
    {
     "name": "stdout",
     "output_type": "stream",
     "text": [
      "\u001b[1m3/3\u001b[0m \u001b[32m━━━━━━━━━━━━━━━━━━━━\u001b[0m\u001b[37m\u001b[0m \u001b[1m0s\u001b[0m 26ms/step\n"
     ]
    },
    {
     "data": {
      "image/png": "[encoded data removed]",
      "text/plain": [
       "<Figure size 432x288 with 1 Axes>"
      ]
     },
     "metadata": {
      "needs_background": "light"
     },
     "output_type": "display_data"
    }
   ],
   "source": [
    "#Test the model\n",
    "test_predictions = model.predict(normed_test_data).flatten()\n",
    "\n",
    "plt.scatter(test_labels, test_predictions)\n",
    "plt.xlabel('True Values T')\n",
    "plt.ylabel('Predictions T')\n",
    "plt.axis('equal')\n",
    "plt.axis('square')\n",
    "_ = plt.plot([-120, 120], [-120, 120])"
   ]
  },
  {
   "cell_type": "code",
   "execution_count": 190,
   "metadata": {},
   "outputs": [],
   "source": [
    "model.save('YuriModel.keras')"
   ]
  },
  {
   "cell_type": "code",
   "execution_count": 191,
   "metadata": {},
   "outputs": [
    {
     "name": "stdout",
     "output_type": "stream",
     "text": [
      "                       I        Ti\n",
      "12.04.2024 12  -2.187690 -0.841990\n",
      "           12  -2.187690 -0.841990\n",
      "16.04.2024 19  -2.279569 -0.577683\n",
      "           22  -2.285497 -0.674176\n",
      "           43  -0.379743 -0.074240\n",
      "...                  ...       ...\n",
      "10.12.2024 835  0.743556  3.105839\n",
      "           859  0.782086  2.631764\n",
      "           879 -1.511933  2.170275\n",
      "           882 -1.538607  1.805279\n",
      "           902 -1.929835  0.018058\n",
      "\n",
      "[84 rows x 2 columns]\n"
     ]
    }
   ],
   "source": [
    "print(normed_test_data)"
   ]
  },
  {
   "cell_type": "code",
   "execution_count": 192,
   "metadata": {},
   "outputs": [
    {
     "name": "stdout",
     "output_type": "stream",
     "text": [
      "                   I          Ti\n",
      "12.04.2024 12     72   20.150862\n",
      "           12     72   20.150862\n",
      "16.04.2024 19     41   26.939655\n",
      "           22     39   24.461207\n",
      "           43    682   39.870690\n",
      "...              ...         ...\n",
      "10.12.2024 835  1061  121.551724\n",
      "           859  1074  109.375000\n",
      "           879   300   97.521552\n",
      "           882   291   88.146552\n",
      "           902   159   42.241379\n",
      "\n",
      "[84 rows x 2 columns]\n"
     ]
    }
   ],
   "source": [
    "print(test)"
   ]
  },
  {
   "cell_type": "code",
   "execution_count": null,
   "metadata": {},
   "outputs": [
    {
     "name": "stdout",
     "output_type": "stream",
     "text": [
      "118.28852\n"
     ]
    }
   ],
   "source": [
    "\n",
    "yuriModel= tf.keras.models.load_model('YuriModel.keras')\n",
    "state=1\n",
    "\n",
    "def step(t: float):\n",
    "    t_norm = (t - MEAN_TEMP) / STD_TEMP\n",
    "    if(state == 0):\n",
    "        ird_norm= (1361 - MEAN_IRD) / STD_IRD\n",
    "    else:\n",
    "        ird_norm= (400- MEAN_IRD) / STD_IRD\n",
    "    return yuriModel.predict(tf.constant([[ird_norm, t_norm]]), verbose=0).flatten()[0]\n",
    "\n",
    "print(step(121))"
   ]
  }
 ],
 "metadata": {
  "kernelspec": {
   "display_name": "Python 3",
   "language": "python",
   "name": "python3"
  },
  "language_info": {
   "codemirror_mode": {
    "name": "ipython",
    "version": 3
   },
   "file_extension": ".py",
   "mimetype": "text/x-python",
   "name": "python",
   "nbconvert_exporter": "python",
   "pygments_lexer": "ipython3",
   "version": "3.10.5"
  }
 },
 "nbformat": 4,
 "nbformat_minor": 2
}
