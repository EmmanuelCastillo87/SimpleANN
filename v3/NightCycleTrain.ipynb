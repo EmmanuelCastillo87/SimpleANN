{
 "cells": [
  {
   "cell_type": "code",
   "execution_count": null,
   "metadata": {},
   "outputs": [
    {
     "name": "stdout",
     "output_type": "stream",
     "text": [
      "min     7030\n",
      "T       7030\n",
      "Ti      7030\n",
      "warm    7030\n",
      "cold    7030\n",
      "dtype: int64\n"
     ]
    }
   ],
   "source": [
    "import pandas as pd\n",
    "import tensorflow as tf\n",
    "from tensorflow import keras\n",
    "from keras import layers\n",
    "\n",
    "import matplotlib.pyplot as plt\n",
    "\n",
    "MODELS= ['A_T1', 'A_T2', 'AT_3']\n",
    "#Shift = 44 means (aprox) a minute after and before\n",
    "SHIFT= 44\n",
    "RATIO= 85.0/65.0\n",
    "ds= {}\n",
    "\n",
    "#Load data\n",
    "raw_dataset= pd.read_csv('AtoData.csv', na_values='?')\n",
    "raw_dataset.pop('A')\n",
    "\n",
    "#Preprocess data\n",
    "for m in MODELS:\n",
    "    ds1= raw_dataset.copy()\n",
    "    ds1= ds1.drop(ds1[ds1['model'] != m].index)\n",
    "    ds1.pop('model')\n",
    "    ds1['Ti']= ds1['T'].shift(SHIFT)\n",
    "    ds1['min']= ds1[\"min\"].rolling(window=SHIFT, min_periods=1).sum()\n",
    "    ds1= ds1.dropna()\n",
    "    ds2= raw_dataset.copy()\n",
    "    ds2= ds2.drop(ds2[ds2['model'] != m].index)\n",
    "    ds2.pop('model')\n",
    "    ds2['Ti']= ds2['T'].shift(-SHIFT)\n",
    "    ds2['min']= ds2[\"min\"].rolling(window=SHIFT, min_periods=1).sum().shift(-SHIFT)\n",
    "    ds2= ds2.dropna()\n",
    "    ds[m]= pd.concat([ds1, ds2])\n",
    "ds_t= pd.concat(ds)\n",
    "ds_t['Ti']= ds_t['Ti'] * RATIO\n",
    "ds_t['T']= ds_t['T'] * RATIO\n",
    "ds_t['warm'] = (ds_t['Ti'] < ds_t['T'])*1.0\n",
    "ds_t['cold'] = (ds_t['Ti'] > ds_t['T'])*1.0\n",
    "print(ds_t.count())"
   ]
  },
  {
   "cell_type": "code",
   "execution_count": 51,
   "metadata": {},
   "outputs": [
    {
     "name": "stdout",
     "output_type": "stream",
     "text": [
      "       count       mean        std        min        25%        50%  \\\n",
      "min   5624.0   1.069273   0.106324   1.010000   1.020000   1.030000   \n",
      "Ti    5624.0  70.070907  15.944285  32.326154  58.427692  75.414615   \n",
      "warm  5624.0   0.501600   0.500042   0.000000   0.000000   1.000000   \n",
      "cold  5624.0   0.498400   0.500042   0.000000   0.000000   0.000000   \n",
      "\n",
      "            75%        max  \n",
      "min    1.050000   1.520000  \n",
      "Ti    84.123846  88.386923  \n",
      "warm   1.000000   1.000000  \n",
      "cold   1.000000   1.000000  \n"
     ]
    }
   ],
   "source": [
    "#Split tran and test sets\n",
    "train= ds_t.sample(frac=0.8, random_state=0)\n",
    "test= ds_t.drop(train.index)\n",
    "\n",
    "#Get data stats\n",
    "train_stats = train.describe()\n",
    "train_stats.pop('T')\n",
    "train_stats = train_stats.transpose()\n",
    "print(train_stats)"
   ]
  },
  {
   "cell_type": "code",
   "execution_count": 52,
   "metadata": {},
   "outputs": [
    {
     "name": "stderr",
     "output_type": "stream",
     "text": [
      "c:\\Users\\Josè Castillo\\AppData\\Local\\Programs\\Python\\Python310\\lib\\site-packages\\keras\\src\\layers\\core\\dense.py:87: UserWarning: Do not pass an `input_shape`/`input_dim` argument to a layer. When using Sequential models, prefer using an `Input(shape)` object as the first layer in the model instead.\n",
      "  super().__init__(activity_regularizer=activity_regularizer, **kwargs)\n"
     ]
    },
    {
     "data": {
      "text/html": [
       "<div>\n",
       "<style scoped>\n",
       "    .dataframe tbody tr th:only-of-type {\n",
       "        vertical-align: middle;\n",
       "    }\n",
       "\n",
       "    .dataframe tbody tr th {\n",
       "        vertical-align: top;\n",
       "    }\n",
       "\n",
       "    .dataframe thead th {\n",
       "        text-align: right;\n",
       "    }\n",
       "</style>\n",
       "<table border=\"1\" class=\"dataframe\">\n",
       "  <thead>\n",
       "    <tr style=\"text-align: right;\">\n",
       "      <th></th>\n",
       "      <th>loss</th>\n",
       "      <th>mae</th>\n",
       "      <th>mse</th>\n",
       "      <th>val_loss</th>\n",
       "      <th>val_mae</th>\n",
       "      <th>val_mse</th>\n",
       "      <th>epoch</th>\n",
       "    </tr>\n",
       "  </thead>\n",
       "  <tbody>\n",
       "    <tr>\n",
       "      <th>32</th>\n",
       "      <td>1.285703</td>\n",
       "      <td>0.900470</td>\n",
       "      <td>1.285703</td>\n",
       "      <td>1.703912</td>\n",
       "      <td>0.998780</td>\n",
       "      <td>1.703912</td>\n",
       "      <td>32</td>\n",
       "    </tr>\n",
       "    <tr>\n",
       "      <th>33</th>\n",
       "      <td>1.240286</td>\n",
       "      <td>0.888543</td>\n",
       "      <td>1.240286</td>\n",
       "      <td>1.999334</td>\n",
       "      <td>1.283559</td>\n",
       "      <td>1.999334</td>\n",
       "      <td>33</td>\n",
       "    </tr>\n",
       "    <tr>\n",
       "      <th>34</th>\n",
       "      <td>1.284674</td>\n",
       "      <td>0.885601</td>\n",
       "      <td>1.284674</td>\n",
       "      <td>0.454596</td>\n",
       "      <td>0.503936</td>\n",
       "      <td>0.454596</td>\n",
       "      <td>34</td>\n",
       "    </tr>\n",
       "    <tr>\n",
       "      <th>35</th>\n",
       "      <td>1.185552</td>\n",
       "      <td>0.833434</td>\n",
       "      <td>1.185552</td>\n",
       "      <td>3.340484</td>\n",
       "      <td>1.647397</td>\n",
       "      <td>3.340484</td>\n",
       "      <td>35</td>\n",
       "    </tr>\n",
       "    <tr>\n",
       "      <th>36</th>\n",
       "      <td>1.261285</td>\n",
       "      <td>0.884154</td>\n",
       "      <td>1.261285</td>\n",
       "      <td>0.610288</td>\n",
       "      <td>0.601915</td>\n",
       "      <td>0.610288</td>\n",
       "      <td>36</td>\n",
       "    </tr>\n",
       "  </tbody>\n",
       "</table>\n",
       "</div>"
      ],
      "text/plain": [
       "        loss       mae       mse  val_loss   val_mae   val_mse  epoch\n",
       "32  1.285703  0.900470  1.285703  1.703912  0.998780  1.703912     32\n",
       "33  1.240286  0.888543  1.240286  1.999334  1.283559  1.999334     33\n",
       "34  1.284674  0.885601  1.284674  0.454596  0.503936  0.454596     34\n",
       "35  1.185552  0.833434  1.185552  3.340484  1.647397  3.340484     35\n",
       "36  1.261285  0.884154  1.261285  0.610288  0.601915  0.610288     36"
      ]
     },
     "execution_count": 52,
     "metadata": {},
     "output_type": "execute_result"
    }
   ],
   "source": [
    "#Constants from the dataset to normalize\n",
    "MEAN_TEMP= 70.070907\n",
    "MEAN_TIME= 1.069273\n",
    "STD_TEMP= 15.944285\n",
    "STD_TIME= 0.106324\n",
    "\n",
    "#Pop the output from the dataset\n",
    "train_labels = train.pop('T')\n",
    "test_labels = test.pop('T')\n",
    "\n",
    "#Normalize data\n",
    "def norm(x):\n",
    "  return (x - train_stats['mean']) / train_stats['std']\n",
    "normed_train_data = norm(train)\n",
    "normed_test_data = norm(test)\n",
    "\n",
    "#Build model\n",
    "def build_model():\n",
    "  model = keras.Sequential([\n",
    "    layers.Dense(250, activation='relu', input_shape=[len(train.keys())]),\n",
    "    layers.Dense(250, activation='relu'),\n",
    "    layers.Dense(1)\n",
    "  ])\n",
    "\n",
    "  optimizer = tf.keras.optimizers.RMSprop(0.001)\n",
    "  model.compile(loss='mse', optimizer=optimizer, metrics=['mae', 'mse'])\n",
    "  \n",
    "  return model\n",
    "\n",
    "model = build_model()\n",
    "early_stop = keras.callbacks.EarlyStopping(monitor='val_loss', patience=10)\n",
    "\n",
    "#Run the model\n",
    "EPOCHS = 1000\n",
    "history = model.fit(\n",
    "  normed_train_data, train_labels,\n",
    "  epochs=EPOCHS, validation_split = 0.2, verbose=0,\n",
    "  callbacks=[early_stop])\n",
    "\n",
    "hist = pd.DataFrame(history.history)\n",
    "hist['epoch'] = history.epoch\n",
    "hist.tail()"
   ]
  },
  {
   "cell_type": "code",
   "execution_count": 53,
   "metadata": {},
   "outputs": [
    {
     "name": "stdout",
     "output_type": "stream",
     "text": [
      "\u001b[1m11/11\u001b[0m \u001b[32m━━━━━━━━━━━━━━━━━━━━\u001b[0m\u001b[37m\u001b[0m \u001b[1m0s\u001b[0m 7ms/step  \n"
     ]
    },
    {
     "data": {
      "image/png": "[encoded data removed]",
      "text/plain": [
       "<Figure size 432x288 with 1 Axes>"
      ]
     },
     "metadata": {
      "needs_background": "light"
     },
     "output_type": "display_data"
    }
   ],
   "source": [
    "#Test the model\n",
    "test_predictions = model.predict(normed_test_data).flatten()\n",
    "\n",
    "plt.scatter(test_labels, test_predictions)\n",
    "plt.xlabel('True Values T')\n",
    "plt.ylabel('Predictions T')\n",
    "plt.axis('equal')\n",
    "plt.axis('square')\n",
    "_ = plt.plot([-100, 100], [-100, 100])"
   ]
  },
  {
   "cell_type": "code",
   "execution_count": 54,
   "metadata": {},
   "outputs": [],
   "source": [
    "# model.save('AtoModel.keras')"
   ]
  },
  {
   "cell_type": "code",
   "execution_count": 57,
   "metadata": {},
   "outputs": [
    {
     "name": "stdout",
     "output_type": "stream",
     "text": [
      "                min        Ti      warm      cold\n",
      "A_T1 2519 -0.369367 -2.341045  0.996716 -0.996716\n",
      "     2544 -0.275316 -2.194236  0.996716 -0.996716\n",
      "     2547 -0.557471 -2.180293  0.996716 -0.996716\n",
      "     2582 -0.369367 -2.024462  0.996716 -0.996716\n",
      "     2613 -0.275316 -1.868631  0.996716 -0.996716\n",
      "...             ...       ...       ...       ...\n",
      "AT_3 6033 -0.463419  1.002762 -1.003117  1.003117\n",
      "     6036 -0.557471  1.002762 -1.003117  1.003117\n",
      "     6041 -0.463419  1.004402 -1.003117  1.003117\n",
      "     6057 -0.369367  1.007683 -1.003117  1.003117\n",
      "     6075 -0.369367  1.011784 -1.003117  1.003117\n",
      "\n",
      "[338 rows x 4 columns]\n"
     ]
    }
   ],
   "source": [
    "print(normed_test_data)"
   ]
  }
 ],
 "metadata": {
  "kernelspec": {
   "display_name": "Python 3",
   "language": "python",
   "name": "python3"
  },
  "language_info": {
   "codemirror_mode": {
    "name": "ipython",
    "version": 3
   },
   "file_extension": ".py",
   "mimetype": "text/x-python",
   "name": "python",
   "nbconvert_exporter": "python",
   "pygments_lexer": "ipython3",
   "version": "3.10.5"
  }
 },
 "nbformat": 4,
 "nbformat_minor": 2
}
